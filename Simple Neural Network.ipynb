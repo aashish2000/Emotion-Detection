{
  "nbformat": 4,
  "nbformat_minor": 0,
  "metadata": {
    "colab": {
      "name": "Untitled2.ipynb",
      "provenance": [],
      "include_colab_link": true
    },
    "kernelspec": {
      "name": "python3",
      "display_name": "Python 3"
    },
    "accelerator": "GPU"
  },
  "cells": [
    {
      "cell_type": "markdown",
      "metadata": {
        "id": "view-in-github",
        "colab_type": "text"
      },
      "source": [
        "<a href=\"https://colab.research.google.com/github/aashish2000/Emotion-Detection/blob/master/Simple%20Neural%20Network.ipynb\" target=\"_parent\"><img src=\"https://colab.research.google.com/assets/colab-badge.svg\" alt=\"Open In Colab\"/></a>"
      ]
    },
    {
      "cell_type": "code",
      "metadata": {
        "id": "yaKzxs9n1U2M",
        "colab_type": "code",
        "outputId": "88d2b673-7c56-4ea8-f31c-e6cb2c9c1abf",
        "colab": {
          "base_uri": "https://localhost:8080/",
          "height": 123
        }
      },
      "source": [
        "from google.colab import drive\n",
        "drive.mount('/content/drive')"
      ],
      "execution_count": 0,
      "outputs": [
        {
          "output_type": "stream",
          "text": [
            "Go to this URL in a browser: https://accounts.google.com/o/oauth2/auth?client_id=947318989803-6bn6qk8qdgf4n4g3pfee6491hc0brc4i.apps.googleusercontent.com&redirect_uri=urn%3Aietf%3Awg%3Aoauth%3A2.0%3Aoob&scope=email%20https%3A%2F%2Fwww.googleapis.com%2Fauth%2Fdocs.test%20https%3A%2F%2Fwww.googleapis.com%2Fauth%2Fdrive%20https%3A%2F%2Fwww.googleapis.com%2Fauth%2Fdrive.photos.readonly%20https%3A%2F%2Fwww.googleapis.com%2Fauth%2Fpeopleapi.readonly&response_type=code\n",
            "\n",
            "Enter your authorization code:\n",
            "··········\n",
            "Mounted at /content/drive\n"
          ],
          "name": "stdout"
        }
      ]
    },
    {
      "cell_type": "code",
      "metadata": {
        "id": "EWKgB9rM20Ul",
        "colab_type": "code",
        "outputId": "c0748480-9486-429f-c467-8709e884f029",
        "colab": {
          "base_uri": "https://localhost:8080/",
          "height": 34
        }
      },
      "source": [
        "from keras.models import Sequential\n",
        "from keras.layers import Dense, Flatten, GlobalAveragePooling2D, BatchNormalization, Conv2D\n",
        "from keras.preprocessing.image import ImageDataGenerator\n",
        "from keras.layers import MaxPooling2D, Activation, Dropout\n",
        "from keras.callbacks import EarlyStopping, ReduceLROnPlateau\n",
        "\n",
        "learning_rate_reduction = ReduceLROnPlateau(monitor='val_acc', \n",
        "                                            patience=2, \n",
        "                                            verbose=1, \n",
        "                                            factor=0.5, \n",
        "                                            min_lr=0.00001)\n",
        "earlystop = EarlyStopping(patience=2)\n",
        "callbacks = [earlystop, learning_rate_reduction]\n",
        "\n",
        "batch_size=32\n",
        "momentum=0.9\n",
        "epochs=10\n",
        "epoch_size=400\n",
        "lr=0.005\n",
        "wd=0.0005\n",
        "\n",
        "train_datagen = ImageDataGenerator(rescale=1/255, rotation_range=90)\n",
        "validation_datagen = ImageDataGenerator(rescale=1/255, rotation_range=90)\n",
        "test_datagen = ImageDataGenerator(rescale=1./255,rotation_range=90)\n",
        "nb_train_samples = 28709\n",
        "nb_validation_samples = 3589"
      ],
      "execution_count": 0,
      "outputs": [
        {
          "output_type": "stream",
          "text": [
            "Using TensorFlow backend.\n"
          ],
          "name": "stderr"
        }
      ]
    },
    {
      "cell_type": "code",
      "metadata": {
        "id": "xL1HuRtO3deI",
        "colab_type": "code",
        "outputId": "23062b19-af8e-422d-fec8-0ad37f367928",
        "colab": {
          "base_uri": "https://localhost:8080/",
          "height": 68
        }
      },
      "source": [
        "train_generator = train_datagen.flow_from_directory(\n",
        "        \"/content/drive/My Drive/fer_images/Training\",  # This is the source directory for training images\n",
        "        #target_size=(48, 48),\n",
        "        target_size=(96, 96),\n",
        "        batch_size=batch_size,\n",
        "        class_mode='categorical',\n",
        "        shuffle=True)\n",
        "\n",
        "validation_generator = validation_datagen.flow_from_directory(\n",
        "        \"/content/drive/My Drive/fer_images/PrivateTest\",  # This is the source directory for training images\n",
        "        target_size=(48, 48), \n",
        "        #target_size=(96, 96),\n",
        "        batch_size=batch_size,\n",
        "        class_mode='categorical',\n",
        "        shuffle=True)\n",
        "test_generator = train_datagen.flow_from_directory(\n",
        "        \"/content/drive/My Drive/fer_images/PublicTest\",  # This is the source directory for training images\n",
        "        #target_size=(48, 48), \n",
        "        target_size=(96, 96),\n",
        "        batch_size=batch_size,\n",
        "        class_mode='categorical',\n",
        "        shuffle=True)\n",
        "filenames = test_generator.filenames\n",
        "nb_test_samples = len(filenames)"
      ],
      "execution_count": 0,
      "outputs": [
        {
          "output_type": "stream",
          "text": [
            "Found 28709 images belonging to 7 classes.\n",
            "Found 3589 images belonging to 7 classes.\n",
            "Found 3589 images belonging to 7 classes.\n"
          ],
          "name": "stdout"
        }
      ]
    },
    {
      "cell_type": "code",
      "metadata": {
        "colab_type": "code",
        "outputId": "75b770ed-1319-4324-fa3c-7f91937ffe36",
        "id": "KW5du9CA5uja",
        "colab": {
          "base_uri": "https://localhost:8080/",
          "height": 977
        }
      },
      "source": [
        "# Simple 4-Layer Model\n",
        "model= Sequential()\n",
        "\n",
        "model.add(Conv2D(16, (3,3), input_shape=(48, 48, 3),use_bias=False))\n",
        "model.add(BatchNormalization())\n",
        "model.add(Activation(\"relu\"))\n",
        "model.add(MaxPooling2D(2,2))\n",
        "model.add(Dropout(0.2))\n",
        "\n",
        "model.add(Conv2D(32, (3,3),use_bias=False))\n",
        "model.add(BatchNormalization())\n",
        "model.add(Activation(\"relu\"))\n",
        "model.add(MaxPooling2D(2,2))\n",
        "model.add(Dropout(0.2))\n",
        "\n",
        "model.add(Conv2D(64, (3,3),use_bias=False))\n",
        "model.add(BatchNormalization())\n",
        "model.add(Activation(\"relu\"))\n",
        "model.add(MaxPooling2D(2,2))\n",
        "model.add(Dropout(0.2))\n",
        "\n",
        "model.add(Conv2D(256, (3,3), use_bias=False))\n",
        "model.add(BatchNormalization())\n",
        "model.add(Activation(\"relu\"))\n",
        "model.add(MaxPooling2D(2,2))\n",
        "model.add(Dropout(0.2))\n",
        "\n",
        "model.add(Flatten())\n",
        "\n",
        "model.add(Dense(512,activation='relu'))\n",
        "model.add(Dense(7,activation='softmax'))\n",
        "\n",
        "model.summary()"
      ],
      "execution_count": 0,
      "outputs": [
        {
          "output_type": "stream",
          "text": [
            "Model: \"sequential_6\"\n",
            "_________________________________________________________________\n",
            "Layer (type)                 Output Shape              Param #   \n",
            "=================================================================\n",
            "conv2d_13 (Conv2D)           (None, 46, 46, 16)        432       \n",
            "_________________________________________________________________\n",
            "batch_normalization_12 (Batc (None, 46, 46, 16)        64        \n",
            "_________________________________________________________________\n",
            "activation_11 (Activation)   (None, 46, 46, 16)        0         \n",
            "_________________________________________________________________\n",
            "max_pooling2d_9 (MaxPooling2 (None, 23, 23, 16)        0         \n",
            "_________________________________________________________________\n",
            "dropout_10 (Dropout)         (None, 23, 23, 16)        0         \n",
            "_________________________________________________________________\n",
            "conv2d_14 (Conv2D)           (None, 21, 21, 32)        4608      \n",
            "_________________________________________________________________\n",
            "batch_normalization_13 (Batc (None, 21, 21, 32)        128       \n",
            "_________________________________________________________________\n",
            "activation_12 (Activation)   (None, 21, 21, 32)        0         \n",
            "_________________________________________________________________\n",
            "max_pooling2d_10 (MaxPooling (None, 10, 10, 32)        0         \n",
            "_________________________________________________________________\n",
            "dropout_11 (Dropout)         (None, 10, 10, 32)        0         \n",
            "_________________________________________________________________\n",
            "conv2d_15 (Conv2D)           (None, 8, 8, 64)          18432     \n",
            "_________________________________________________________________\n",
            "batch_normalization_14 (Batc (None, 8, 8, 64)          256       \n",
            "_________________________________________________________________\n",
            "activation_13 (Activation)   (None, 8, 8, 64)          0         \n",
            "_________________________________________________________________\n",
            "max_pooling2d_11 (MaxPooling (None, 4, 4, 64)          0         \n",
            "_________________________________________________________________\n",
            "dropout_12 (Dropout)         (None, 4, 4, 64)          0         \n",
            "_________________________________________________________________\n",
            "conv2d_16 (Conv2D)           (None, 2, 2, 256)         147456    \n",
            "_________________________________________________________________\n",
            "batch_normalization_15 (Batc (None, 2, 2, 256)         1024      \n",
            "_________________________________________________________________\n",
            "activation_14 (Activation)   (None, 2, 2, 256)         0         \n",
            "_________________________________________________________________\n",
            "max_pooling2d_12 (MaxPooling (None, 1, 1, 256)         0         \n",
            "_________________________________________________________________\n",
            "dropout_13 (Dropout)         (None, 1, 1, 256)         0         \n",
            "_________________________________________________________________\n",
            "flatten_3 (Flatten)          (None, 256)               0         \n",
            "_________________________________________________________________\n",
            "dense_5 (Dense)              (None, 512)               131584    \n",
            "_________________________________________________________________\n",
            "dense_6 (Dense)              (None, 7)                 3591      \n",
            "=================================================================\n",
            "Total params: 307,575\n",
            "Trainable params: 306,839\n",
            "Non-trainable params: 736\n",
            "_________________________________________________________________\n"
          ],
          "name": "stdout"
        }
      ]
    },
    {
      "cell_type": "code",
      "metadata": {
        "id": "IAbtw68T55Yn",
        "colab_type": "code",
        "colab": {}
      },
      "source": [
        "# 5 - Layer Model\n",
        "model= Sequential()\n",
        "\n",
        "model.add(Conv2D(16, (3,3), input_shape=(48, 48, 3),use_bias=False))\n",
        "model.add(BatchNormalization())\n",
        "model.add(Activation(\"relu\"))\n",
        "model.add(MaxPooling2D(2,2))\n",
        "model.add(Dropout(0.2))\n",
        "\n",
        "model.add(Conv2D(32, (3,3),use_bias=False))\n",
        "model.add(BatchNormalization())\n",
        "model.add(Activation(\"relu\"))\n",
        "model.add(MaxPooling2D(2,2))\n",
        "model.add(Dropout(0.2))\n",
        "\n",
        "model.add(Conv2D(64, (3,3),use_bias=False))\n",
        "model.add(BatchNormalization())\n",
        "model.add(Activation(\"relu\"))\n",
        "model.add(MaxPooling2D(2,2))\n",
        "model.add(Dropout(0.2))\n",
        "\n",
        "model.add(Conv2D(256, (3,3), use_bias=False))\n",
        "model.add(BatchNormalization())\n",
        "model.add(Activation(\"relu\"))\n",
        "model.add(MaxPooling2D(2,2))\n",
        "model.add(Dropout(0.2))\n",
        "\n",
        "model.add(Conv2D(512, (3,3), use_bias=False))\n",
        "model.add(BatchNormalization())\n",
        "model.add(Activation(\"relu\"))\n",
        "model.add(MaxPooling2D(2,2))\n",
        "model.add(Dropout(0.2))\n",
        "\n",
        "model.add(Flatten())\n",
        "\n",
        "model.add(Dense(1024,activation='relu'))\n",
        "model.add(Dense(7,activation='softmax'))\n",
        "\n",
        "model.summary()"
      ],
      "execution_count": 0,
      "outputs": []
    },
    {
      "cell_type": "code",
      "metadata": {
        "id": "zeDBtlDLOiP-",
        "colab_type": "code",
        "outputId": "69675015-a373-4141-ffd1-98ece1be467d",
        "colab": {
          "base_uri": "https://localhost:8080/",
          "height": 337
        }
      },
      "source": [
        "# Resnet Model\n",
        "from keras.applications.inception_v3 import InceptionV3\n",
        "\n",
        "base_model = InceptionV3(weights=\"imagenet\", include_top=False, input_shape=(96,96,3))\n",
        "\n",
        "for layer in base_model.layers[:]:\n",
        "    layer.trainable = True\n",
        "\n",
        "'''for layer in base_model.layers:\n",
        "    print(layer, layer.trainable)'''\n",
        "\n",
        "model=Sequential()\n",
        "\n",
        "model.add(base_model)\n",
        "model.add(Flatten())\n",
        "model.add(Dense(1024,activation='relu'))\n",
        "model.add(Dropout(0.25))\n",
        "model.add(Dense(7,activation='softmax'))\n",
        "\n",
        "model.summary()\n",
        "\n"
      ],
      "execution_count": 0,
      "outputs": [
        {
          "output_type": "stream",
          "text": [
            "Model: \"sequential_2\"\n",
            "_________________________________________________________________\n",
            "Layer (type)                 Output Shape              Param #   \n",
            "=================================================================\n",
            "inception_v3 (Model)         (None, 1, 1, 2048)        21802784  \n",
            "_________________________________________________________________\n",
            "flatten_2 (Flatten)          (None, 2048)              0         \n",
            "_________________________________________________________________\n",
            "dense_3 (Dense)              (None, 1024)              2098176   \n",
            "_________________________________________________________________\n",
            "dropout_2 (Dropout)          (None, 1024)              0         \n",
            "_________________________________________________________________\n",
            "dense_4 (Dense)              (None, 7)                 7175      \n",
            "=================================================================\n",
            "Total params: 23,908,135\n",
            "Trainable params: 23,873,703\n",
            "Non-trainable params: 34,432\n",
            "_________________________________________________________________\n"
          ],
          "name": "stdout"
        }
      ]
    },
    {
      "cell_type": "code",
      "metadata": {
        "id": "T8jLQyya8He-",
        "colab_type": "code",
        "outputId": "f2c995f4-0345-499e-e14b-f5fde8bf4d06",
        "colab": {
          "base_uri": "https://localhost:8080/",
          "height": 233
        }
      },
      "source": [
        "model.compile(optimizer=\"adam\", loss='categorical_crossentropy', metrics=['accuracy'])\n",
        "history = model.fit_generator(\n",
        "      train_generator,\n",
        "      steps_per_epoch=nb_train_samples // batch_size,\n",
        "      validation_data=validation_generator, \n",
        "      validation_steps=nb_validation_samples // batch_size,\n",
        "      epochs=epochs,\n",
        "      callbacks=callbacks)\n",
        "\n",
        "score = model.evaluate_generator(validation_generator,nb_validation_samples//batch_size)\n",
        "\n",
        "print(\" Total Validation Accuracy: \", len(validation_generator.filenames))\n",
        "print(\"Loss: \", score[0], \"Accuracy: \", score[1])\n",
        "\n",
        "model.save(\"/content/drive/My Drive/emotion-models/4layer_model.h5\")"
      ],
      "execution_count": 0,
      "outputs": [
        {
          "output_type": "error",
          "ename": "NameError",
          "evalue": "ignored",
          "traceback": [
            "\u001b[0;31m---------------------------------------------------------------------------\u001b[0m",
            "\u001b[0;31mNameError\u001b[0m                                 Traceback (most recent call last)",
            "\u001b[0;32m<ipython-input-4-6eddd459fa03>\u001b[0m in \u001b[0;36m<module>\u001b[0;34m()\u001b[0m\n\u001b[0;32m----> 1\u001b[0;31m \u001b[0mmodel\u001b[0m\u001b[0;34m.\u001b[0m\u001b[0mcompile\u001b[0m\u001b[0;34m(\u001b[0m\u001b[0moptimizer\u001b[0m\u001b[0;34m=\u001b[0m\u001b[0;34m\"adam\"\u001b[0m\u001b[0;34m,\u001b[0m \u001b[0mloss\u001b[0m\u001b[0;34m=\u001b[0m\u001b[0;34m'categorical_crossentropy'\u001b[0m\u001b[0;34m,\u001b[0m \u001b[0mmetrics\u001b[0m\u001b[0;34m=\u001b[0m\u001b[0;34m[\u001b[0m\u001b[0;34m'accuracy'\u001b[0m\u001b[0;34m]\u001b[0m\u001b[0;34m)\u001b[0m\u001b[0;34m\u001b[0m\u001b[0;34m\u001b[0m\u001b[0m\n\u001b[0m\u001b[1;32m      2\u001b[0m history = model.fit_generator(\n\u001b[1;32m      3\u001b[0m       \u001b[0mtrain_generator\u001b[0m\u001b[0;34m,\u001b[0m\u001b[0;34m\u001b[0m\u001b[0;34m\u001b[0m\u001b[0m\n\u001b[1;32m      4\u001b[0m       \u001b[0msteps_per_epoch\u001b[0m\u001b[0;34m=\u001b[0m\u001b[0mnb_train_samples\u001b[0m \u001b[0;34m//\u001b[0m \u001b[0mbatch_size\u001b[0m\u001b[0;34m,\u001b[0m\u001b[0;34m\u001b[0m\u001b[0;34m\u001b[0m\u001b[0m\n\u001b[1;32m      5\u001b[0m       \u001b[0mvalidation_data\u001b[0m\u001b[0;34m=\u001b[0m\u001b[0mvalidation_generator\u001b[0m\u001b[0;34m,\u001b[0m\u001b[0;34m\u001b[0m\u001b[0;34m\u001b[0m\u001b[0m\n",
            "\u001b[0;31mNameError\u001b[0m: name 'model' is not defined"
          ]
        }
      ]
    },
    {
      "cell_type": "code",
      "metadata": {
        "id": "gMtPjd7EbxjL",
        "colab_type": "code",
        "outputId": "2f1253d8-3546-4527-8ebe-749f01c9ab64",
        "colab": {
          "base_uri": "https://localhost:8080/",
          "height": 977
        }
      },
      "source": [
        "from keras.models import load_model\n",
        "\n",
        "model=load_model(\"/content/drive/My Drive/emotion-models/4layer_model.h5\")\n",
        "model.summary()\n",
        "\n",
        "score = model.evaluate_generator(validation_generator,nb_validation_samples//batch_size)\n",
        "print(\" Total: \", len(validation_generator.filenames))\n",
        "print(\"Loss: \", score[0], \"Accuracy: \", score[1])\n"
      ],
      "execution_count": 0,
      "outputs": [
        {
          "output_type": "stream",
          "text": [
            "Model: \"sequential_7\"\n",
            "_________________________________________________________________\n",
            "Layer (type)                 Output Shape              Param #   \n",
            "=================================================================\n",
            "conv2d_17 (Conv2D)           (None, 46, 46, 16)        432       \n",
            "_________________________________________________________________\n",
            "batch_normalization_16 (Batc (None, 46, 46, 16)        64        \n",
            "_________________________________________________________________\n",
            "activation_15 (Activation)   (None, 46, 46, 16)        0         \n",
            "_________________________________________________________________\n",
            "max_pooling2d_13 (MaxPooling (None, 23, 23, 16)        0         \n",
            "_________________________________________________________________\n",
            "dropout_14 (Dropout)         (None, 23, 23, 16)        0         \n",
            "_________________________________________________________________\n",
            "conv2d_18 (Conv2D)           (None, 21, 21, 32)        4608      \n",
            "_________________________________________________________________\n",
            "batch_normalization_17 (Batc (None, 21, 21, 32)        128       \n",
            "_________________________________________________________________\n",
            "activation_16 (Activation)   (None, 21, 21, 32)        0         \n",
            "_________________________________________________________________\n",
            "max_pooling2d_14 (MaxPooling (None, 10, 10, 32)        0         \n",
            "_________________________________________________________________\n",
            "dropout_15 (Dropout)         (None, 10, 10, 32)        0         \n",
            "_________________________________________________________________\n",
            "conv2d_19 (Conv2D)           (None, 8, 8, 64)          18432     \n",
            "_________________________________________________________________\n",
            "batch_normalization_18 (Batc (None, 8, 8, 64)          256       \n",
            "_________________________________________________________________\n",
            "activation_17 (Activation)   (None, 8, 8, 64)          0         \n",
            "_________________________________________________________________\n",
            "max_pooling2d_15 (MaxPooling (None, 4, 4, 64)          0         \n",
            "_________________________________________________________________\n",
            "dropout_16 (Dropout)         (None, 4, 4, 64)          0         \n",
            "_________________________________________________________________\n",
            "conv2d_20 (Conv2D)           (None, 2, 2, 256)         147456    \n",
            "_________________________________________________________________\n",
            "batch_normalization_19 (Batc (None, 2, 2, 256)         1024      \n",
            "_________________________________________________________________\n",
            "activation_18 (Activation)   (None, 2, 2, 256)         0         \n",
            "_________________________________________________________________\n",
            "max_pooling2d_16 (MaxPooling (None, 1, 1, 256)         0         \n",
            "_________________________________________________________________\n",
            "dropout_17 (Dropout)         (None, 1, 1, 256)         0         \n",
            "_________________________________________________________________\n",
            "flatten_4 (Flatten)          (None, 256)               0         \n",
            "_________________________________________________________________\n",
            "dense_7 (Dense)              (None, 512)               131584    \n",
            "_________________________________________________________________\n",
            "dense_8 (Dense)              (None, 7)                 3591      \n",
            "=================================================================\n",
            "Total params: 307,575\n",
            "Trainable params: 306,839\n",
            "Non-trainable params: 736\n",
            "_________________________________________________________________\n",
            " Total:  3589\n",
            "Loss:  1.527087353169918 Accuracy:  0.40848214285714285\n"
          ],
          "name": "stdout"
        }
      ]
    },
    {
      "cell_type": "code",
      "metadata": {
        "id": "BLZSAiaVGiiD",
        "colab_type": "code",
        "outputId": "a55dcb88-e574-45d2-ce28-e3ebfcb89bd3",
        "colab": {
          "base_uri": "https://localhost:8080/",
          "height": 1000
        }
      },
      "source": [
        "from IPython.display import Image, display\n",
        "from keras.preprocessing.image import img_to_array, load_img\n",
        "'''from keras.applications.vgg16 import preprocess_input\n",
        "from keras.applications.vgg16 import decode_predictions\n",
        "from keras.applications.vgg16 import VGG16\n",
        "from keras import backend as K'''\n",
        "import matplotlib.pyplot as plt\n",
        "import numpy as np\n",
        "import os\n",
        "\n",
        "\n",
        "path=\"/content/drive/My Drive/fer_images/PublicTest/Fear/\"\n",
        "\n",
        "i=0\n",
        "\n",
        "def get_immediate_subdirectories(a_dir):\n",
        "    return [name for name in os.listdir(a_dir)\n",
        "            if os.path.isdir(os.path.join(a_dir, name))]\n",
        "arr=get_immediate_subdirectories(\"/content/drive/My Drive/fer_images/PublicTest/\")\n",
        "arr.sort()\n",
        "print(arr)\n",
        "listdir=os.listdir(path)\n",
        "for entry in listdir[50:100]:\n",
        "    if os.path.isfile(os.path.join(path, entry)):\n",
        "        display(Image(os.path.join(path, entry)))\n",
        "        print(entry)\n",
        "        image = load_img(path+entry, target_size=(48, 48))\n",
        "        image = img_to_array(image)\n",
        "        image = np.expand_dims(image, axis=0)\n",
        "        #image = preprocess_input(image)\n",
        "        #Generate predictions\n",
        "        image = np.vstack([image])\n",
        "        pred = model.predict(image)\n",
        "        print(pred)\n",
        "        #print(len(pred[0]))\n",
        "        #print(np.argmax(pred[0]))\n",
        "        print('Predicted:', arr[np.argmax(pred[0])])\n",
        "        \n",
        "        i+=1\n",
        "    if(i==10):\n",
        "        break"
      ],
      "execution_count": 0,
      "outputs": [
        {
          "output_type": "stream",
          "text": [
            "['Angry', 'Disgust', 'Fear', 'Happy', 'Neutral', 'Sad', 'Surprise']\n"
          ],
          "name": "stdout"
        },
        {
          "output_type": "display_data",
          "data": {
            "image/jpeg": "[encoded data removed]",
            "text/plain": [
              "<IPython.core.display.Image object>"
            ]
          },
          "metadata": {
            "tags": []
          }
        },
        {
          "output_type": "stream",
          "text": [
            "00029105.jpg\n",
            "[[9.9895132e-01 0.0000000e+00 1.0486852e-03 2.7979513e-32 0.0000000e+00\n",
            "  0.0000000e+00 0.0000000e+00]]\n",
            "Predicted: Angry\n"
          ],
          "name": "stdout"
        },
        {
          "output_type": "display_data",
          "data": {
            "image/jpeg": "[encoded data removed]",
            "text/plain": [
              "<IPython.core.display.Image object>"
            ]
          },
          "metadata": {
            "tags": []
          }
        },
        {
          "output_type": "stream",
          "text": [
            "00029106.jpg\n",
            "[[1.3752227e-36 0.0000000e+00 1.0000000e+00 0.0000000e+00 0.0000000e+00\n",
            "  0.0000000e+00 3.4861957e-35]]\n",
            "Predicted: Fear\n"
          ],
          "name": "stdout"
        },
        {
          "output_type": "display_data",
          "data": {
            "image/jpeg": "[encoded data removed]",
            "text/plain": [
              "<IPython.core.display.Image object>"
            ]
          },
          "metadata": {
            "tags": []
          }
        },
        {
          "output_type": "stream",
          "text": [
            "00029152.jpg\n",
            "[[6.8771428e-08 0.0000000e+00 1.2265653e-26 9.9999988e-01 0.0000000e+00\n",
            "  0.0000000e+00 0.0000000e+00]]\n",
            "Predicted: Happy\n"
          ],
          "name": "stdout"
        },
        {
          "output_type": "display_data",
          "data": {
            "image/jpeg": "[encoded data removed]",
            "text/plain": [
              "<IPython.core.display.Image object>"
            ]
          },
          "metadata": {
            "tags": []
          }
        },
        {
          "output_type": "stream",
          "text": [
            "00029157.jpg\n",
            "[[8.8090575e-09 0.0000000e+00 1.0000000e+00 0.0000000e+00 0.0000000e+00\n",
            "  0.0000000e+00 0.0000000e+00]]\n",
            "Predicted: Fear\n"
          ],
          "name": "stdout"
        },
        {
          "output_type": "display_data",
          "data": {
            "image/jpeg": "[encoded data removed]",
            "text/plain": [
              "<IPython.core.display.Image object>"
            ]
          },
          "metadata": {
            "tags": []
          }
        },
        {
          "output_type": "stream",
          "text": [
            "00029113.jpg\n",
            "[[9.843565e-18 0.000000e+00 1.000000e+00 0.000000e+00 0.000000e+00\n",
            "  0.000000e+00 0.000000e+00]]\n",
            "Predicted: Fear\n"
          ],
          "name": "stdout"
        },
        {
          "output_type": "display_data",
          "data": {
            "image/jpeg": "[encoded data removed]",
            "text/plain": [
              "<IPython.core.display.Image object>"
            ]
          },
          "metadata": {
            "tags": []
          }
        },
        {
          "output_type": "stream",
          "text": [
            "00029154.jpg\n",
            "[[2.8489091e-11 0.0000000e+00 1.7753738e-11 6.0489158e-26 1.0000000e+00\n",
            "  1.6173182e-09 2.3424350e-33]]\n",
            "Predicted: Neutral\n"
          ],
          "name": "stdout"
        },
        {
          "output_type": "display_data",
          "data": {
            "image/jpeg": "[encoded data removed]",
            "text/plain": [
              "<IPython.core.display.Image object>"
            ]
          },
          "metadata": {
            "tags": []
          }
        },
        {
          "output_type": "stream",
          "text": [
            "00029107.jpg\n",
            "[[1. 0. 0. 0. 0. 0. 0.]]\n",
            "Predicted: Angry\n"
          ],
          "name": "stdout"
        },
        {
          "output_type": "display_data",
          "data": {
            "image/jpeg": "[encoded data removed]",
            "text/plain": [
              "<IPython.core.display.Image object>"
            ]
          },
          "metadata": {
            "tags": []
          }
        },
        {
          "output_type": "stream",
          "text": [
            "00029126.jpg\n",
            "[[2.8440969e-05 0.0000000e+00 9.9997151e-01 1.4269573e-20 0.0000000e+00\n",
            "  1.8988209e-31 6.5329608e-29]]\n",
            "Predicted: Fear\n"
          ],
          "name": "stdout"
        },
        {
          "output_type": "display_data",
          "data": {
            "image/jpeg": "[encoded data removed]",
            "text/plain": [
              "<IPython.core.display.Image object>"
            ]
          },
          "metadata": {
            "tags": []
          }
        },
        {
          "output_type": "stream",
          "text": [
            "00029146.jpg\n",
            "[[0. 0. 1. 0. 0. 0. 0.]]\n",
            "Predicted: Fear\n"
          ],
          "name": "stdout"
        },
        {
          "output_type": "display_data",
          "data": {
            "image/jpeg": "[encoded data removed]",
            "text/plain": [
              "<IPython.core.display.Image object>"
            ]
          },
          "metadata": {
            "tags": []
          }
        },
        {
          "output_type": "stream",
          "text": [
            "00029165.jpg\n",
            "[[1.8704251e-18 0.0000000e+00 1.0000000e+00 3.7311320e-37 0.0000000e+00\n",
            "  0.0000000e+00 7.1139291e-31]]\n",
            "Predicted: Fear\n"
          ],
          "name": "stdout"
        }
      ]
    }
  ]
}